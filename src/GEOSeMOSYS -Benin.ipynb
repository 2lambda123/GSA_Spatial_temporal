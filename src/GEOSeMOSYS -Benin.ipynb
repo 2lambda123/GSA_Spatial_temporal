{
 "cells": [
  {
   "cell_type": "markdown",
   "metadata": {},
   "source": [
    "## GEOSeMOSYS - geospatial energy systems optimization Benin"
   ]
  },
  {
   "cell_type": "markdown",
   "metadata": {},
   "source": [
    "Nandi Moksnes, Will Usher"
   ]
  },
  {
   "cell_type": "markdown",
   "metadata": {},
   "source": [
    "This Jupyter Notebook is both a description of how to reproduce the results in the paper and where you run the code.\n",
    "For any questions please contact Nandi Moksnes: nandi@kth.se"
   ]
  },
  {
   "cell_type": "markdown",
   "metadata": {},
   "source": [
    "## This repository is built from the version v0.1.0 on [GEOSeMOSYS_Kenya](https://github.com/KTH-dESA/GEOSeMOSYS_Kenya/releases/tag/v0.1.0-preprint)"
   ]
  },
  {
   "cell_type": "markdown",
   "metadata": {},
   "source": [
    "## QGIS preparation\n",
    "\n",
    "For the polygons to be matching the spatial resolution follwing steps are taken in QGIS to obtain the required point and polygon layers:\n",
    "You need to have an (arbitrary) raster that is in projected metric CRS.\n",
    "- r.resamp.stats and defined the cellsize to the sample size resolution (This function is available in QGIS GRASS)\n",
    "- Then use that raster to generate: \"Raster to point\" and \"Raster to polygon\"\n",
    "\n",
    "These files are then the base for running the global sensitivity analysis (GSA)."
   ]
  },
  {
   "cell_type": "code",
   "execution_count": 1,
   "metadata": {},
   "outputs": [],
   "source": [
    "#Spatial resolution\n",
    "point = '../Projected_files/13_points_BENIN_UTM31N.dbf.shp'\n",
    "polygon = '../Projected_files/13_polygons_BENIN_UTM31N.shp'"
   ]
  },
  {
   "cell_type": "code",
   "execution_count": 2,
   "metadata": {},
   "outputs": [],
   "source": [
    "%load_ext autoreload\n",
    "\n",
    "from datetime import datetime\n",
    "import os\n",
    "import matplotlib.pyplot as plt\n",
    "import geopandas as gpd\n",
    "import pandas as pd\n",
    "import numpy as np\n",
    "import seaborn as sns"
   ]
  },
  {
   "cell_type": "markdown",
   "metadata": {},
   "source": [
    "# Initial key parameter settings\n",
    "\n",
    "In \"src/run/ref/input_data.csv\", \"src/run/vision/input_data.csv\"key parameters are set for the following settings:\n",
    "- Timeslice name\n",
    "- Hour corresponding to each time slice (not used in the current version)\n",
    "- Month\n",
    "- Daysplit\n",
    "- Specified annual demand fuel\n",
    "- Start year\n",
    "- End year\n",
    "- Timeslice day-night hour (e.g. first hour that belongs to day time slice)\n",
    "- Timeslice day-evening hour (e.g. last hour that belongs to day time slice)\n",
    "- Timeslice evening-day hour (e.g. first hour that belongs to evening time slice)\n",
    "- Timeslice evening-night hour (e.g. last hour that belongs to evening time slice)\n",
    "- Timeslice night-evening hour (e.g. first hour that belongs to night time slice)\n",
    "- Timeslice night-day hour (e.g. last hour that belongs to night time slice)\n",
    "- Region (an OSeMOSYS set)\n",
    "- Tech/renewable ninjafile equals the corresponding file to evaluate\n",
    "- Household size (HH)\n",
    "- Inhabited area (as a percentage)\n",
    "- Area cell size (e.g. resolution on the data)\n",
    "- peak(Watt) for households\n",
    "- LV_area \n",
    "- Max capacity for LV lines in W\n"
   ]
  },
  {
   "cell_type": "markdown",
   "metadata": {},
   "source": [
    "# GIS input files"
   ]
  },
  {
   "cell_type": "code",
   "execution_count": 3,
   "metadata": {},
   "outputs": [
    {
     "name": "stdout",
     "output_type": "stream",
     "text": [
      "C:\\Users\\nandi\\OneDrive - KTH\\box_files\\PhD\\Paper 4 - GSA\\reprod workflow\\GSA_Spatial_temporal\\src\n"
     ]
    },
    {
     "data": {
      "text/html": [
       "<div>\n",
       "<style scoped>\n",
       "    .dataframe tbody tr th:only-of-type {\n",
       "        vertical-align: middle;\n",
       "    }\n",
       "\n",
       "    .dataframe tbody tr th {\n",
       "        vertical-align: top;\n",
       "    }\n",
       "\n",
       "    .dataframe thead th {\n",
       "        text-align: right;\n",
       "    }\n",
       "</style>\n",
       "<table border=\"1\" class=\"dataframe\">\n",
       "  <thead>\n",
       "    <tr style=\"text-align: right;\">\n",
       "      <th></th>\n",
       "      <th>filename</th>\n",
       "    </tr>\n",
       "    <tr>\n",
       "      <th>type</th>\n",
       "      <th></th>\n",
       "    </tr>\n",
       "  </thead>\n",
       "  <tbody>\n",
       "    <tr>\n",
       "      <th>pop_raster</th>\n",
       "      <td>Benin/HRSL_Benin_1km_km_UTM31N.tif</td>\n",
       "    </tr>\n",
       "    <tr>\n",
       "      <th>adm_WGS84</th>\n",
       "      <td>gadm36_BEN_shp/gadm36_BEN_0.shp</td>\n",
       "    </tr>\n",
       "    <tr>\n",
       "      <th>adm</th>\n",
       "      <td>gadm36_BEN_0_UTM31N.shp</td>\n",
       "    </tr>\n",
       "    <tr>\n",
       "      <th>crs</th>\n",
       "      <td>UTM31N</td>\n",
       "    </tr>\n",
       "    <tr>\n",
       "      <th>minigrid_concat</th>\n",
       "      <td>Concat_Mini-grid_UMT31N.shp</td>\n",
       "    </tr>\n",
       "    <tr>\n",
       "      <th>MV_concat</th>\n",
       "      <td>Concat_MV_lines_UMT31N.shp</td>\n",
       "    </tr>\n",
       "    <tr>\n",
       "      <th>point</th>\n",
       "      <td>13_points_BENIN_UTM31N.dbf.shp</td>\n",
       "    </tr>\n",
       "    <tr>\n",
       "      <th>polygon</th>\n",
       "      <td>13_polygons_BENIN_UTM31N.shp</td>\n",
       "    </tr>\n",
       "    <tr>\n",
       "      <th>rastertopoint</th>\n",
       "      <td>Benin/raster_to_point_Benin_UTM31N.shp</td>\n",
       "    </tr>\n",
       "    <tr>\n",
       "      <th>gdp</th>\n",
       "      <td>UTM31N_GDP_PPP_2015_WGS_84.tif</td>\n",
       "    </tr>\n",
       "  </tbody>\n",
       "</table>\n",
       "</div>"
      ],
      "text/plain": [
       "                                               filename\n",
       "type                                                   \n",
       "pop_raster           Benin/HRSL_Benin_1km_km_UTM31N.tif\n",
       "adm_WGS84               gadm36_BEN_shp/gadm36_BEN_0.shp\n",
       "adm                             gadm36_BEN_0_UTM31N.shp\n",
       "crs                                              UTM31N\n",
       "minigrid_concat             Concat_Mini-grid_UMT31N.shp\n",
       "MV_concat                    Concat_MV_lines_UMT31N.shp\n",
       "point                    13_points_BENIN_UTM31N.dbf.shp\n",
       "polygon                    13_polygons_BENIN_UTM31N.shp\n",
       "rastertopoint    Benin/raster_to_point_Benin_UTM31N.shp\n",
       "gdp                      UTM31N_GDP_PPP_2015_WGS_84.tif"
      ]
     },
     "execution_count": 3,
     "metadata": {},
     "output_type": "execute_result"
    }
   ],
   "source": [
    "#Benin\n",
    "print(os.getcwd())\n",
    "files = pd.read_csv('input_data/Benin_GIS_files.csv', index_col=0)\n",
    "import os\n",
    "\n",
    "\n",
    "crs = \"EPSG:32631\"\n",
    "files"
   ]
  },
  {
   "cell_type": "markdown",
   "metadata": {},
   "source": [
    "## 1. The files in \"input_data/GIS_data\" are downloaded and placed in a \"temp\" folder.\n",
    "Approx 25 min"
   ]
  },
  {
   "cell_type": "markdown",
   "metadata": {},
   "source": [
    "### Datasets\n",
    "[Nighttimelight data average masked, 2020](https://eogdata.mines.edu/nighttime_light/annual/v20/2020/VNL_v2_npp_2020_global_vcmslcfg_c202102150000.average_masked.tif.gz)\n",
    "[GDP_PPP_2015_WGS_84](https://zenodo.org/record/4736323/files/GDP_PPP_Layer2015.tif?download=1)\n"
   ]
  },
  {
   "cell_type": "code",
   "execution_count": 4,
   "metadata": {},
   "outputs": [
    {
     "name": "stdout",
     "output_type": "stream",
     "text": [
      "2022 08 08-08:02:42_AM\n",
      "<urlopen error [SSL: CERTIFICATE_VERIFY_FAILED] certificate verify failed: certificate has expired (_ssl.c:1091)>\n",
      "<urlopen error [SSL: CERTIFICATE_VERIFY_FAILED] certificate verify failed: certificate has expired (_ssl.c:1091)>\n",
      "<urlopen error [SSL: CERTIFICATE_VERIFY_FAILED] certificate verify failed: certificate has expired (_ssl.c:1091)>\n"
     ]
    }
   ],
   "source": [
    "%autoreload\n",
    "date = datetime.now().strftime(\"%Y %m %d-%I:%M:%S_%p\")\n",
    "print(date)\n",
    "\n",
    "from Download_files import *\n",
    "\n",
    "\n",
    "URL_viirs = 'https://eogdata.mines.edu/nighttime_light/annual/v20/2020/VNL_v2_npp_2020_global_vcmslcfg_c202102150000.average_masked.tif.gz'\n",
    "    \n",
    "download_url_data('input_data/GIS_URL.txt', 'temp')\n",
    "download_viirs(URL_viirs, 'temp')\n",
    "unzip_all('input_data/GIS_unzip.txt','../temp', '../GIS_data')"
   ]
  },
  {
   "cell_type": "markdown",
   "metadata": {},
   "source": [
    "## 2. The files are then projected and clipped to the administrative boundaries. \n",
    "Approx 3 hours"
   ]
  },
  {
   "cell_type": "code",
   "execution_count": 5,
   "metadata": {},
   "outputs": [
    {
     "name": "stdout",
     "output_type": "stream",
     "text": [
      "2022_08_08-08:07:41_AM\n",
      "C:\\Users\\nandi\\OneDrive - KTH\\box_files\\PhD\\Paper 4 - GSA\\reprod workflow\\GSA_Spatial_temporal\\src\n",
      "C:\\Users\\nandi\\OneDrive - KTH\\box_files\\PhD\\Paper 4 - GSA\\reprod workflow\\GSA_Spatial_temporal\\GIS_Data\n",
      "Already clipped\n"
     ]
    },
    {
     "ename": "NameError",
     "evalue": "name 'input_schema' is not defined",
     "output_type": "error",
     "traceback": [
      "\u001b[1;31m---------------------------------------------------------------------------\u001b[0m",
      "\u001b[1;31mNameError\u001b[0m                                 Traceback (most recent call last)",
      "\u001b[1;32m<ipython-input-5-375d8ad104af>\u001b[0m in \u001b[0;36m<module>\u001b[1;34m\u001b[0m\n\u001b[0;32m      6\u001b[0m \u001b[1;32mfrom\u001b[0m \u001b[0mProject_GIS\u001b[0m \u001b[1;32mimport\u001b[0m \u001b[1;33m*\u001b[0m\u001b[1;33m\u001b[0m\u001b[1;33m\u001b[0m\u001b[0m\n\u001b[0;32m      7\u001b[0m \u001b[1;33m\u001b[0m\u001b[0m\n\u001b[1;32m----> 8\u001b[1;33m \u001b[0mproject_main\u001b[0m\u001b[1;33m(\u001b[0m\u001b[1;34m'../GIS_Data'\u001b[0m\u001b[1;33m,\u001b[0m \u001b[1;34m'../Projected_files'\u001b[0m\u001b[1;33m,\u001b[0m \u001b[0mfiles\u001b[0m\u001b[1;33m,\u001b[0m \u001b[0mcrs\u001b[0m\u001b[1;33m)\u001b[0m\u001b[1;33m\u001b[0m\u001b[1;33m\u001b[0m\u001b[0m\n\u001b[0m",
      "\u001b[1;32m~\\OneDrive - KTH\\box_files\\PhD\\Paper 4 - GSA\\reprod workflow\\GSA_Spatial_temporal\\src\\Project_GIS.py\u001b[0m in \u001b[0;36mproject_main\u001b[1;34m(GIS_files_path, topath, files, CR)\u001b[0m\n\u001b[0;32m    212\u001b[0m         \u001b[0mpath\u001b[0m\u001b[1;33m,\u001b[0m \u001b[0mfilename\u001b[0m \u001b[1;33m=\u001b[0m \u001b[0mos\u001b[0m\u001b[1;33m.\u001b[0m\u001b[0mpath\u001b[0m\u001b[1;33m.\u001b[0m\u001b[0msplit\u001b[0m\u001b[1;33m(\u001b[0m\u001b[0ms\u001b[0m\u001b[1;33m)\u001b[0m\u001b[1;33m\u001b[0m\u001b[1;33m\u001b[0m\u001b[0m\n\u001b[0;32m    213\u001b[0m         \u001b[0mprojected\u001b[0m \u001b[1;33m=\u001b[0m \u001b[0mproject_vector\u001b[0m\u001b[1;33m(\u001b[0m\u001b[0ms\u001b[0m\u001b[1;33m,\u001b[0m \u001b[0mCR\u001b[0m\u001b[1;33m)\u001b[0m\u001b[1;33m\u001b[0m\u001b[1;33m\u001b[0m\u001b[0m\n\u001b[1;32m--> 214\u001b[1;33m         \u001b[0mclip_vector\u001b[0m\u001b[1;33m(\u001b[0m\u001b[0mos\u001b[0m\u001b[1;33m.\u001b[0m\u001b[0mpath\u001b[0m\u001b[1;33m.\u001b[0m\u001b[0mjoin\u001b[0m\u001b[1;33m(\u001b[0m\u001b[0mcurrent\u001b[0m\u001b[1;33m,\u001b[0m\u001b[0mfiles\u001b[0m\u001b[1;33m.\u001b[0m\u001b[0mloc\u001b[0m\u001b[1;33m[\u001b[0m\u001b[1;34m'adm'\u001b[0m\u001b[1;33m,\u001b[0m\u001b[1;34m'filename'\u001b[0m\u001b[1;33m]\u001b[0m\u001b[1;33m)\u001b[0m\u001b[1;33m,\u001b[0m \u001b[0mprojected\u001b[0m\u001b[1;33m,\u001b[0m \u001b[0ms\u001b[0m\u001b[1;33m,\u001b[0m \u001b[0mos\u001b[0m\u001b[1;33m.\u001b[0m\u001b[0mpath\u001b[0m\u001b[1;33m.\u001b[0m\u001b[0mjoin\u001b[0m\u001b[1;33m(\u001b[0m\u001b[0mpath\u001b[0m\u001b[1;33m,\u001b[0m \u001b[0mfiles\u001b[0m\u001b[1;33m.\u001b[0m\u001b[0mloc\u001b[0m\u001b[1;33m[\u001b[0m\u001b[1;34m'crs'\u001b[0m\u001b[1;33m,\u001b[0m\u001b[1;34m'filename'\u001b[0m\u001b[1;33m]\u001b[0m\u001b[1;33m+\u001b[0m\u001b[1;34m\"_%s\"\u001b[0m \u001b[1;33m%\u001b[0m \u001b[1;33m(\u001b[0m\u001b[0mfilename\u001b[0m\u001b[1;33m)\u001b[0m\u001b[1;33m)\u001b[0m\u001b[1;33m)\u001b[0m\u001b[1;33m\u001b[0m\u001b[1;33m\u001b[0m\u001b[0m\n\u001b[0m\u001b[0;32m    215\u001b[0m \u001b[1;33m\u001b[0m\u001b[0m\n\u001b[0;32m    216\u001b[0m     \u001b[1;31m#All tif-files in all folders in dir current\u001b[0m\u001b[1;33m\u001b[0m\u001b[1;33m\u001b[0m\u001b[1;33m\u001b[0m\u001b[0m\n",
      "\u001b[1;32m~\\OneDrive - KTH\\box_files\\PhD\\Paper 4 - GSA\\reprod workflow\\GSA_Spatial_temporal\\src\\Project_GIS.py\u001b[0m in \u001b[0;36mclip_vector\u001b[1;34m(admin, vectordata, vectordata_location, outputvector)\u001b[0m\n\u001b[0;32m    100\u001b[0m         \u001b[0mprint\u001b[0m\u001b[1;33m(\u001b[0m\u001b[1;34m\"Already clipped\"\u001b[0m\u001b[1;33m)\u001b[0m\u001b[1;33m\u001b[0m\u001b[1;33m\u001b[0m\u001b[0m\n\u001b[0;32m    101\u001b[0m \u001b[1;33m\u001b[0m\u001b[0m\n\u001b[1;32m--> 102\u001b[1;33m     \u001b[0mvector\u001b[0m\u001b[1;33m.\u001b[0m\u001b[0mto_file\u001b[0m\u001b[1;33m(\u001b[0m\u001b[0moutputvector\u001b[0m\u001b[1;33m,\u001b[0m \u001b[0mschema\u001b[0m\u001b[1;33m=\u001b[0m\u001b[0minput_schema\u001b[0m\u001b[1;33m)\u001b[0m\u001b[1;33m\u001b[0m\u001b[1;33m\u001b[0m\u001b[0m\n\u001b[0m\u001b[0;32m    103\u001b[0m     \u001b[1;32mreturn\u001b[0m\u001b[1;33m(\u001b[0m\u001b[0mvector\u001b[0m\u001b[1;33m)\u001b[0m\u001b[1;33m\u001b[0m\u001b[1;33m\u001b[0m\u001b[0m\n\u001b[0;32m    104\u001b[0m \u001b[1;33m\u001b[0m\u001b[0m\n",
      "\u001b[1;31mNameError\u001b[0m: name 'input_schema' is not defined"
     ]
    }
   ],
   "source": [
    "%autoreload\n",
    "date = datetime. now(). strftime(\"%Y_%m_%d-%I:%M:%S_%p\")\n",
    "print(date)\n",
    "import os\n",
    "\n",
    "from Project_GIS import *\n",
    "\n",
    "project_main('../GIS_Data', '../Projected_files', files, crs)"
   ]
  },
  {
   "cell_type": "markdown",
   "metadata": {},
   "source": [
    "## 3. Through QGIS make raster to point layer and save (MANUAL STEP)"
   ]
  },
  {
   "cell_type": "markdown",
   "metadata": {},
   "source": [
    "\n",
    "1) Reproject the HRSL to CRS EPSG:32737 - WGS 84 / UTM zone 31N - Projected\n",
    "2) Reduce the resolution through GRASS \"r.resamp.stats\" with cellsize 1000 m.\n",
    "3) Remove values under 1 with Raster calculator.\n",
    "4) Then run SAGA: raster to point in QGIS\n",
    "\n",
    "This step is downloaded from zenodo so it is not needed for the user to execute.\n",
    "\n",
    "Run time: Approx 1 minute\n"
   ]
  },
  {
   "cell_type": "code",
   "execution_count": 17,
   "metadata": {},
   "outputs": [
    {
     "name": "stdout",
     "output_type": "stream",
     "text": [
      "The autoreload extension is already loaded. To reload it, use:\n",
      "  %reload_ext autoreload\n",
      "2022 06 07-03:00:20_PM\n",
      "C:\\Users\\nandi\\OneDrive - KTH\\box_files\\PhD\\Paper 4\\reprod workflow\\GSA_Spatial_temporal\\GIS_Data\n"
     ]
    },
    {
     "data": {
      "text/plain": [
       "()"
      ]
     },
     "execution_count": 17,
     "metadata": {},
     "output_type": "execute_result"
    }
   ],
   "source": [
    "%load_ext autoreload\n",
    "%autoreload\n",
    "\n",
    "from datetime import datetime\n",
    "date = datetime.now().strftime(\"%Y %m %d-%I:%M:%S_%p\")\n",
    "print(date)\n",
    "\n",
    "from Download_files import *\n",
    "\n",
    "#Make sure you are in the /src directory when you start this script\n",
    "print(os.getcwd())\n",
    "\n",
    "download_url_data(\"input_data/zenodo.txt\", \"Projected_files\")"
   ]
  },
  {
   "cell_type": "markdown",
   "metadata": {},
   "source": [
    "## 4. The GIS layers are prepared to for a heuristic approximation for electrified settlements\n",
    "Approx 15 min"
   ]
  },
  {
   "cell_type": "code",
   "execution_count": null,
   "metadata": {
    "scrolled": false
   },
   "outputs": [],
   "source": [
    "%autoreload\n",
    "\n",
    "from settlement_build import *\n",
    "\n",
    "date = datetime.now().strftime(\"%Y %m %d-%I:%M:%S_%p\")\n",
    "print(date)\n",
    "\n",
    "os.chdir('../src')\n",
    "#Make sure you are in the /src directory when you start this script\n",
    "print(os.getcwd())\n",
    "\n",
    "pop_shp = '../Projected_files/Benin/raster_to_point_Benin_UTM31N.shp'\n",
    "Projected_files_path = '../Projected_files'\n",
    "\n",
    "rasterize = raster_proximity(Projected_files_path, files)\n",
    "points = raster_to_point(rasterize, pop_shp, Projected_files_path, crs)"
   ]
  },
  {
   "cell_type": "markdown",
   "metadata": {},
   "source": [
    "## 5. Approximate location of urban settlements and the electrified settlements 1kmx1km resolution\n",
    "Approx 10 min. Make sure to wait so that the shapefile and csv file is saved properly from step 4."
   ]
  },
  {
   "cell_type": "code",
   "execution_count": null,
   "metadata": {
    "tags": [
     "keep-output"
    ]
   },
   "outputs": [],
   "source": [
    "%autoreload\n",
    "from elec_start import *\n",
    "\n",
    "date = datetime.now().strftime(\"%Y %m %d-%I:%M:%S_%p\")\n",
    "print(date)\n",
    "\n",
    "elec_actual = 0.403  # percent #https://data.worldbank.org/indicator/EG.ELC.ACCS.ZS accessed 2021-10-02\n",
    "pop_cutoff = 400  # people\n",
    "dist_mv = 1000 #meters\n",
    "dist_lv = 1000 #meters\n",
    "min_night_lights = 0.5\n",
    "max_grid_dist = 5000  # meters\n",
    "max_road_dist = 500  # meters\n",
    "pop_cutoff2 = 3000 # people\n",
    "urban_elec_ratio = 0.653  # percent https://data.worldbank.org/indicator/EG.ELC.ACCS.UR.ZS 2022-02-02\n",
    "rural_elec_ratio = 0.174  # percent https://data.worldbank.org/indicator/EG.ELC.ACCS.RU.ZS accessed 2022-02-02\n",
    "pop_actual = 12046162  # people https://data.worldbank.org/indicator/SP.POP.TOTL?locations=KE accessed 2021-10-02\n",
    "urban = 0.48  # percent https://data.worldbank.org/indicator/SP.URB.TOTL.IN.ZS 2021-02-02\n",
    "urban_cutoff = 20000\n",
    "start_year = 2019\n",
    "settlement = gpd.read_file(\"../Projected_files/settlements.shp\")\n",
    "\n",
    "settlements = pd.DataFrame(settlement, copy=True)\n",
    "urbansettlements = calibrate_pop_and_urban(settlements, pop_actual, urban, urban_cutoff)\n",
    "elec_current_and_future(urbansettlements, elec_actual, pop_cutoff, min_night_lights,\n",
    "                            max_grid_dist, urban_elec_ratio, rural_elec_ratio, max_road_dist, pop_actual, pop_cutoff2, start_year, dist_mv, dist_lv, crs)\n"
   ]
  },
  {
   "cell_type": "code",
   "execution_count": null,
   "metadata": {
    "tags": [
     "keep-output"
    ]
   },
   "outputs": [],
   "source": [
    "%autoreload\n",
    "date = datetime.now().strftime(\"%Y %m %d-%I:%M:%S_%p\")\n",
    "print(date)\n",
    "\n",
    "shp_path = (r'..\\Projected_files\\elec.shp')\n",
    "\n",
    "point = gpd.read_file(shp_path)\n",
    "os.chdir('../src')"
   ]
  },
  {
   "cell_type": "code",
   "execution_count": null,
   "metadata": {
    "tags": [
     "keep-output"
    ]
   },
   "outputs": [],
   "source": [
    "fig, ax = plt.subplots(1, 1)\n",
    "point.plot(column='elec', ax=ax)\n",
    "fig.suptitle('Estimated electrified popluation (in yellow) Benin', fontsize=18)"
   ]
  },
  {
   "cell_type": "markdown",
   "metadata": {},
   "source": [
    "## 6. Run Pathfinder for the area of study \n",
    "## Network can be overlapping due to that the split of attirbutes is not executed\n",
    "- Build target.csv and weights.csv from unelectrified population per 1x1 km cell with a population over x and roadnetwork to weight 0.5 and where there is grid weight 0.01.\n",
    "- Define the origin (center of the cell) and run the many-to-many Dijkstra [Pathfinder algorithm](https://github.com/facebookresearch/many-to-many-dijkstra) (Rohrer, 2019)\n",
    "- The path where there is an overlap with grid is removed and the remainder is concidered the new distribution lines.\n",
    "- The lenght of the path is summed to km and the length of the LV per cell is then multiplied with the cost per MW-km. [The cost per km is set to 4000 USD/MW-km and 15 000 USD/MW for a substation](https://iea-etsap.org/E-TechDS/PDF/E12_el-t&d_KV_Apr2014_GSOK.pdf)."
   ]
  },
  {
   "cell_type": "code",
   "execution_count": null,
   "metadata": {},
   "outputs": [],
   "source": [
    "%autoreload\n",
    "date = datetime.now().strftime(\"%Y %m %d-%I:%M:%S_%p\")\n",
    "print(date)\n",
    "\n",
    "#Identify unelectrified polygons\n",
    "\n",
    "from Build_csv_files import *\n",
    "polygons_all = '../Projected_files/Final_Polygons_Kenya.shp'\n",
    "noHV = 'run/noHV_cells.csv'\n",
    "shape =  \"run/Demand/un_elec_polygons.shp\"\n",
    "\n",
    "noHV_polygons(polygons_all, noHV, shape)"
   ]
  },
  {
   "cell_type": "markdown",
   "metadata": {},
   "source": [
    "# Scenario builder"
   ]
  },
  {
   "cell_type": "code",
   "execution_count": null,
   "metadata": {},
   "outputs": [],
   "source": []
  },
  {
   "cell_type": "markdown",
   "metadata": {},
   "source": [
    "## 1. Download Renewable.ninja data for all cells\n",
    "To run this code you need to have installed R on your computer and the package \"curl\". In addition you need to have a log in on renewables.ninja and get your API token to dowload a higher share of locations per day\n",
    "\n",
    "Approx 24 h due to the max dowloads per hour\n",
    "\n",
    "## TODO: The shapefile needs to be flexible"
   ]
  },
  {
   "cell_type": "code",
   "execution_count": 9,
   "metadata": {
    "scrolled": true
   },
   "outputs": [
    {
     "name": "stdout",
     "output_type": "stream",
     "text": [
      "The autoreload extension is already loaded. To reload it, use:\n",
      "  %reload_ext autoreload\n",
      "2022 02 24-04:23:59_PM\n",
      "C:\\Users\\nandi\\OneDrive - KTH\\box_files\\PhD\\Paper 4\\reprod workflow\\GSA_Spatial_temporal\\src\n"
     ]
    }
   ],
   "source": [
    "%load_ext autoreload\n",
    "%autoreload\n",
    "date = datetime.now().strftime(\"%Y %m %d-%I:%M:%S_%p\")\n",
    "print(date)\n",
    "\n",
    "from renewable_ninja_download import *\n",
    "\n",
    "#To be able to download you need to install the package curl from R and also have R installed on your computer\n",
    "# Easiest is to write  install.packages(\"curl\") in the R prompt\n",
    "\n",
    "\n",
    "# add your token for API from your own log in on Renewable Ninjas\n",
    "token = ''\n",
    "time_zone_offset = 1  # Benin is UTC + 1hours to adjust for the time zone\n",
    "\n",
    "shapefile = '../Projected_files/' + files.loc['point','filename']\n",
    "#Add the path to the RScript.exe under Program Files and add here\n",
    "Rpath =  'C:\\\\TPFAPPS\\\\R\\\\R-4.1.0\\\\bin\\\\RScript.exe'\n",
    "srcpath = os.getcwd()\n",
    "print(srcpath)\n",
    "path = \"temp\"\n",
    "coordinates = project_vector(shapefile)\n",
    "wind, solar = csv_make(coordinates)\n",
    "down = download(path, Rpath, srcpath, wind, solar, token)\n",
    "adjust_timezone(path, time_zone_offset)\n"
   ]
  },
  {
   "cell_type": "markdown",
   "metadata": {},
   "source": [
    "## 2. Scale down from1x1 km to chosens spatial resolution for electrified and unelectrified demand cells and save to un_elec/elec.csv and demand_cells.csv\n",
    "\n",
    "From the demand_cell.csv file identify the cells that does not have any electrified cells in the 40x40 cell and classify them as unelectrified. \n",
    "\n",
    "Approx. 5 min"
   ]
  },
  {
   "cell_type": "code",
   "execution_count": 15,
   "metadata": {},
   "outputs": [
    {
     "name": "stdout",
     "output_type": "stream",
     "text": [
      "2022 02 24-04:32:58_PM\n",
      "C:\\Users\\nandi\\OneDrive - KTH\\box_files\\PhD\\Paper 4\\reprod workflow\\GSA_Spatial_temporal\\src\n",
      "epsg:32631\n",
      "EPSG:32631\n",
      "UTM31N_GDP_PPP_2015_WGS_84\n"
     ]
    },
    {
     "name": "stderr",
     "output_type": "stream",
     "text": [
      "C:\\Users\\nandi\\OneDrive - KTH\\box_files\\PhD\\Paper 4\\reprod workflow\\GSA_Spatial_temporal\\src\\post_elec_GIS_functions.py:45: UserWarning: Column names longer than 10 characters will be truncated when saved to ESRI Shapefile.\n",
      "  demand_cells.to_file(os.path.join(os.getcwd(), 'run\\Demand\\demand.shp'))\n"
     ]
    },
    {
     "ename": "KeyError",
     "evalue": "'Minigrid'",
     "output_type": "error",
     "traceback": [
      "\u001b[1;31m---------------------------------------------------------------------------\u001b[0m",
      "\u001b[1;31mKeyError\u001b[0m                                  Traceback (most recent call last)",
      "\u001b[1;32mC:\\Nobackup\\Anaconda3\\envs\\GSA\\lib\\site-packages\\pandas\\core\\indexes\\base.py\u001b[0m in \u001b[0;36mget_loc\u001b[1;34m(self, key, method, tolerance)\u001b[0m\n\u001b[0;32m   3079\u001b[0m             \u001b[1;32mtry\u001b[0m\u001b[1;33m:\u001b[0m\u001b[1;33m\u001b[0m\u001b[1;33m\u001b[0m\u001b[0m\n\u001b[1;32m-> 3080\u001b[1;33m                 \u001b[1;32mreturn\u001b[0m \u001b[0mself\u001b[0m\u001b[1;33m.\u001b[0m\u001b[0m_engine\u001b[0m\u001b[1;33m.\u001b[0m\u001b[0mget_loc\u001b[0m\u001b[1;33m(\u001b[0m\u001b[0mcasted_key\u001b[0m\u001b[1;33m)\u001b[0m\u001b[1;33m\u001b[0m\u001b[1;33m\u001b[0m\u001b[0m\n\u001b[0m\u001b[0;32m   3081\u001b[0m             \u001b[1;32mexcept\u001b[0m \u001b[0mKeyError\u001b[0m \u001b[1;32mas\u001b[0m \u001b[0merr\u001b[0m\u001b[1;33m:\u001b[0m\u001b[1;33m\u001b[0m\u001b[1;33m\u001b[0m\u001b[0m\n",
      "\u001b[1;32mpandas\\_libs\\index.pyx\u001b[0m in \u001b[0;36mpandas._libs.index.IndexEngine.get_loc\u001b[1;34m()\u001b[0m\n",
      "\u001b[1;32mpandas\\_libs\\index.pyx\u001b[0m in \u001b[0;36mpandas._libs.index.IndexEngine.get_loc\u001b[1;34m()\u001b[0m\n",
      "\u001b[1;32mpandas\\_libs\\hashtable_class_helper.pxi\u001b[0m in \u001b[0;36mpandas._libs.hashtable.PyObjectHashTable.get_item\u001b[1;34m()\u001b[0m\n",
      "\u001b[1;32mpandas\\_libs\\hashtable_class_helper.pxi\u001b[0m in \u001b[0;36mpandas._libs.hashtable.PyObjectHashTable.get_item\u001b[1;34m()\u001b[0m\n",
      "\u001b[1;31mKeyError\u001b[0m: 'Minigrid'",
      "\nThe above exception was the direct cause of the following exception:\n",
      "\u001b[1;31mKeyError\u001b[0m                                  Traceback (most recent call last)",
      "\u001b[1;32m<ipython-input-15-b6947935b549>\u001b[0m in \u001b[0;36m<module>\u001b[1;34m\u001b[0m\n\u001b[0;32m     13\u001b[0m \u001b[1;33m\u001b[0m\u001b[0m\n\u001b[0;32m     14\u001b[0m \u001b[0mjoin\u001b[0m\u001b[1;33m(\u001b[0m\u001b[0melec_shp\u001b[0m\u001b[1;33m,\u001b[0m \u001b[0mgdp\u001b[0m\u001b[1;33m,\u001b[0m \u001b[0mshape\u001b[0m\u001b[1;33m)\u001b[0m\u001b[1;33m\u001b[0m\u001b[1;33m\u001b[0m\u001b[0m\n\u001b[1;32m---> 15\u001b[1;33m \u001b[0melec\u001b[0m\u001b[1;33m(\u001b[0m\u001b[0mdemandcells\u001b[0m\u001b[1;33m)\u001b[0m\u001b[1;33m\u001b[0m\u001b[1;33m\u001b[0m\u001b[0m\n\u001b[0m",
      "\u001b[1;32m~\\OneDrive - KTH\\box_files\\PhD\\Paper 4\\reprod workflow\\GSA_Spatial_temporal\\src\\post_elec_GIS_functions.py\u001b[0m in \u001b[0;36melec\u001b[1;34m(demandcells)\u001b[0m\n\u001b[0;32m     53\u001b[0m \u001b[1;33m\u001b[0m\u001b[0m\n\u001b[0;32m     54\u001b[0m     \u001b[0mallcells\u001b[0m \u001b[1;33m=\u001b[0m \u001b[0mdemand_cell\u001b[0m\u001b[1;33m.\u001b[0m\u001b[0mgroupby\u001b[0m\u001b[1;33m(\u001b[0m\u001b[1;33m[\u001b[0m\u001b[1;34m\"ID\"\u001b[0m\u001b[1;33m]\u001b[0m\u001b[1;33m)\u001b[0m\u001b[1;33m\u001b[0m\u001b[1;33m\u001b[0m\u001b[0m\n\u001b[1;32m---> 55\u001b[1;33m     \u001b[0mHV_all\u001b[0m \u001b[1;33m=\u001b[0m \u001b[0mallcells\u001b[0m\u001b[1;33m.\u001b[0m\u001b[0mfilter\u001b[0m\u001b[1;33m(\u001b[0m\u001b[1;32mlambda\u001b[0m \u001b[0mx\u001b[0m\u001b[1;33m:\u001b[0m \u001b[1;33m(\u001b[0m\u001b[0mx\u001b[0m\u001b[1;33m[\u001b[0m\u001b[1;34m'elec'\u001b[0m\u001b[1;33m]\u001b[0m\u001b[1;33m.\u001b[0m\u001b[0mmean\u001b[0m\u001b[1;33m(\u001b[0m\u001b[1;33m)\u001b[0m \u001b[1;33m>\u001b[0m \u001b[1;36m0\u001b[0m\u001b[1;33m)\u001b[0m \u001b[1;32mand\u001b[0m \u001b[1;33m(\u001b[0m\u001b[1;33m(\u001b[0m\u001b[0mx\u001b[0m\u001b[1;33m[\u001b[0m\u001b[1;34m'Minigrid'\u001b[0m\u001b[1;33m]\u001b[0m\u001b[1;33m.\u001b[0m\u001b[0mmin\u001b[0m\u001b[1;33m(\u001b[0m\u001b[1;33m)\u001b[0m \u001b[1;33m>\u001b[0m \u001b[1;36m5000\u001b[0m\u001b[1;33m)\u001b[0m\u001b[1;33m)\u001b[0m \u001b[1;32mor\u001b[0m \u001b[1;33m(\u001b[0m\u001b[1;33m(\u001b[0m\u001b[0mx\u001b[0m\u001b[1;33m[\u001b[0m\u001b[1;34m'MV'\u001b[0m\u001b[1;33m]\u001b[0m\u001b[1;33m.\u001b[0m\u001b[0mmin\u001b[0m\u001b[1;33m(\u001b[0m\u001b[1;33m)\u001b[0m \u001b[1;33m<\u001b[0m \u001b[1;36m1\u001b[0m\u001b[1;33m)\u001b[0m\u001b[1;33m)\u001b[0m \u001b[1;32mor\u001b[0m \u001b[1;33m(\u001b[0m\u001b[1;33m(\u001b[0m\u001b[0mx\u001b[0m\u001b[1;33m[\u001b[0m\u001b[1;34m'LV'\u001b[0m\u001b[1;33m]\u001b[0m\u001b[1;33m.\u001b[0m\u001b[0mmin\u001b[0m\u001b[1;33m(\u001b[0m\u001b[1;33m)\u001b[0m \u001b[1;33m<\u001b[0m \u001b[1;36m1\u001b[0m\u001b[1;33m)\u001b[0m\u001b[1;33m)\u001b[0m \u001b[1;32mor\u001b[0m \u001b[1;33m(\u001b[0m\u001b[1;33m(\u001b[0m\u001b[0mx\u001b[0m\u001b[1;33m[\u001b[0m\u001b[1;34m'Grid'\u001b[0m\u001b[1;33m]\u001b[0m\u001b[1;33m.\u001b[0m\u001b[0mmin\u001b[0m\u001b[1;33m(\u001b[0m\u001b[1;33m)\u001b[0m \u001b[1;33m<\u001b[0m \u001b[1;36m1\u001b[0m\u001b[1;33m)\u001b[0m\u001b[1;33m)\u001b[0m\u001b[1;33m)\u001b[0m\u001b[1;33m\u001b[0m\u001b[1;33m\u001b[0m\u001b[0m\n\u001b[0m\u001b[0;32m     56\u001b[0m     \u001b[0mHV\u001b[0m \u001b[1;33m=\u001b[0m \u001b[0mHV_all\u001b[0m\u001b[1;33m.\u001b[0m\u001b[0mgroupby\u001b[0m\u001b[1;33m(\u001b[0m\u001b[1;33m[\u001b[0m\u001b[1;34m\"ID\"\u001b[0m\u001b[1;33m]\u001b[0m\u001b[1;33m)\u001b[0m\u001b[1;33m\u001b[0m\u001b[1;33m\u001b[0m\u001b[0m\n\u001b[0;32m     57\u001b[0m     \u001b[0mHV_df\u001b[0m \u001b[1;33m=\u001b[0m \u001b[0mHV\u001b[0m\u001b[1;33m.\u001b[0m\u001b[0msum\u001b[0m\u001b[1;33m(\u001b[0m\u001b[1;33m)\u001b[0m\u001b[1;33m.\u001b[0m\u001b[0mreset_index\u001b[0m\u001b[1;33m(\u001b[0m\u001b[1;33m)\u001b[0m\u001b[1;33m[\u001b[0m\u001b[1;33m[\u001b[0m\u001b[1;34m'ID'\u001b[0m\u001b[1;33m]\u001b[0m\u001b[1;33m]\u001b[0m\u001b[1;33m\u001b[0m\u001b[1;33m\u001b[0m\u001b[0m\n",
      "\u001b[1;32mC:\\Nobackup\\Anaconda3\\envs\\GSA\\lib\\site-packages\\pandas\\core\\groupby\\generic.py\u001b[0m in \u001b[0;36mfilter\u001b[1;34m(self, func, dropna, *args, **kwargs)\u001b[0m\n\u001b[0;32m   1506\u001b[0m             \u001b[0mobject\u001b[0m\u001b[1;33m.\u001b[0m\u001b[0m__setattr__\u001b[0m\u001b[1;33m(\u001b[0m\u001b[0mgroup\u001b[0m\u001b[1;33m,\u001b[0m \u001b[1;34m\"name\"\u001b[0m\u001b[1;33m,\u001b[0m \u001b[0mname\u001b[0m\u001b[1;33m)\u001b[0m\u001b[1;33m\u001b[0m\u001b[1;33m\u001b[0m\u001b[0m\n\u001b[0;32m   1507\u001b[0m \u001b[1;33m\u001b[0m\u001b[0m\n\u001b[1;32m-> 1508\u001b[1;33m             \u001b[0mres\u001b[0m \u001b[1;33m=\u001b[0m \u001b[0mfunc\u001b[0m\u001b[1;33m(\u001b[0m\u001b[0mgroup\u001b[0m\u001b[1;33m,\u001b[0m \u001b[1;33m*\u001b[0m\u001b[0margs\u001b[0m\u001b[1;33m,\u001b[0m \u001b[1;33m**\u001b[0m\u001b[0mkwargs\u001b[0m\u001b[1;33m)\u001b[0m\u001b[1;33m\u001b[0m\u001b[1;33m\u001b[0m\u001b[0m\n\u001b[0m\u001b[0;32m   1509\u001b[0m \u001b[1;33m\u001b[0m\u001b[0m\n\u001b[0;32m   1510\u001b[0m             \u001b[1;32mtry\u001b[0m\u001b[1;33m:\u001b[0m\u001b[1;33m\u001b[0m\u001b[1;33m\u001b[0m\u001b[0m\n",
      "\u001b[1;32m~\\OneDrive - KTH\\box_files\\PhD\\Paper 4\\reprod workflow\\GSA_Spatial_temporal\\src\\post_elec_GIS_functions.py\u001b[0m in \u001b[0;36m<lambda>\u001b[1;34m(x)\u001b[0m\n\u001b[0;32m     53\u001b[0m \u001b[1;33m\u001b[0m\u001b[0m\n\u001b[0;32m     54\u001b[0m     \u001b[0mallcells\u001b[0m \u001b[1;33m=\u001b[0m \u001b[0mdemand_cell\u001b[0m\u001b[1;33m.\u001b[0m\u001b[0mgroupby\u001b[0m\u001b[1;33m(\u001b[0m\u001b[1;33m[\u001b[0m\u001b[1;34m\"ID\"\u001b[0m\u001b[1;33m]\u001b[0m\u001b[1;33m)\u001b[0m\u001b[1;33m\u001b[0m\u001b[1;33m\u001b[0m\u001b[0m\n\u001b[1;32m---> 55\u001b[1;33m     \u001b[0mHV_all\u001b[0m \u001b[1;33m=\u001b[0m \u001b[0mallcells\u001b[0m\u001b[1;33m.\u001b[0m\u001b[0mfilter\u001b[0m\u001b[1;33m(\u001b[0m\u001b[1;32mlambda\u001b[0m \u001b[0mx\u001b[0m\u001b[1;33m:\u001b[0m \u001b[1;33m(\u001b[0m\u001b[0mx\u001b[0m\u001b[1;33m[\u001b[0m\u001b[1;34m'elec'\u001b[0m\u001b[1;33m]\u001b[0m\u001b[1;33m.\u001b[0m\u001b[0mmean\u001b[0m\u001b[1;33m(\u001b[0m\u001b[1;33m)\u001b[0m \u001b[1;33m>\u001b[0m \u001b[1;36m0\u001b[0m\u001b[1;33m)\u001b[0m \u001b[1;32mand\u001b[0m \u001b[1;33m(\u001b[0m\u001b[1;33m(\u001b[0m\u001b[0mx\u001b[0m\u001b[1;33m[\u001b[0m\u001b[1;34m'Minigrid'\u001b[0m\u001b[1;33m]\u001b[0m\u001b[1;33m.\u001b[0m\u001b[0mmin\u001b[0m\u001b[1;33m(\u001b[0m\u001b[1;33m)\u001b[0m \u001b[1;33m>\u001b[0m \u001b[1;36m5000\u001b[0m\u001b[1;33m)\u001b[0m\u001b[1;33m)\u001b[0m \u001b[1;32mor\u001b[0m \u001b[1;33m(\u001b[0m\u001b[1;33m(\u001b[0m\u001b[0mx\u001b[0m\u001b[1;33m[\u001b[0m\u001b[1;34m'MV'\u001b[0m\u001b[1;33m]\u001b[0m\u001b[1;33m.\u001b[0m\u001b[0mmin\u001b[0m\u001b[1;33m(\u001b[0m\u001b[1;33m)\u001b[0m \u001b[1;33m<\u001b[0m \u001b[1;36m1\u001b[0m\u001b[1;33m)\u001b[0m\u001b[1;33m)\u001b[0m \u001b[1;32mor\u001b[0m \u001b[1;33m(\u001b[0m\u001b[1;33m(\u001b[0m\u001b[0mx\u001b[0m\u001b[1;33m[\u001b[0m\u001b[1;34m'LV'\u001b[0m\u001b[1;33m]\u001b[0m\u001b[1;33m.\u001b[0m\u001b[0mmin\u001b[0m\u001b[1;33m(\u001b[0m\u001b[1;33m)\u001b[0m \u001b[1;33m<\u001b[0m \u001b[1;36m1\u001b[0m\u001b[1;33m)\u001b[0m\u001b[1;33m)\u001b[0m \u001b[1;32mor\u001b[0m \u001b[1;33m(\u001b[0m\u001b[1;33m(\u001b[0m\u001b[0mx\u001b[0m\u001b[1;33m[\u001b[0m\u001b[1;34m'Grid'\u001b[0m\u001b[1;33m]\u001b[0m\u001b[1;33m.\u001b[0m\u001b[0mmin\u001b[0m\u001b[1;33m(\u001b[0m\u001b[1;33m)\u001b[0m \u001b[1;33m<\u001b[0m \u001b[1;36m1\u001b[0m\u001b[1;33m)\u001b[0m\u001b[1;33m)\u001b[0m\u001b[1;33m)\u001b[0m\u001b[1;33m\u001b[0m\u001b[1;33m\u001b[0m\u001b[0m\n\u001b[0m\u001b[0;32m     56\u001b[0m     \u001b[0mHV\u001b[0m \u001b[1;33m=\u001b[0m \u001b[0mHV_all\u001b[0m\u001b[1;33m.\u001b[0m\u001b[0mgroupby\u001b[0m\u001b[1;33m(\u001b[0m\u001b[1;33m[\u001b[0m\u001b[1;34m\"ID\"\u001b[0m\u001b[1;33m]\u001b[0m\u001b[1;33m)\u001b[0m\u001b[1;33m\u001b[0m\u001b[1;33m\u001b[0m\u001b[0m\n\u001b[0;32m     57\u001b[0m     \u001b[0mHV_df\u001b[0m \u001b[1;33m=\u001b[0m \u001b[0mHV\u001b[0m\u001b[1;33m.\u001b[0m\u001b[0msum\u001b[0m\u001b[1;33m(\u001b[0m\u001b[1;33m)\u001b[0m\u001b[1;33m.\u001b[0m\u001b[0mreset_index\u001b[0m\u001b[1;33m(\u001b[0m\u001b[1;33m)\u001b[0m\u001b[1;33m[\u001b[0m\u001b[1;33m[\u001b[0m\u001b[1;34m'ID'\u001b[0m\u001b[1;33m]\u001b[0m\u001b[1;33m]\u001b[0m\u001b[1;33m\u001b[0m\u001b[1;33m\u001b[0m\u001b[0m\n",
      "\u001b[1;32mC:\\Nobackup\\Anaconda3\\envs\\GSA\\lib\\site-packages\\pandas\\core\\frame.py\u001b[0m in \u001b[0;36m__getitem__\u001b[1;34m(self, key)\u001b[0m\n\u001b[0;32m   3022\u001b[0m             \u001b[1;32mif\u001b[0m \u001b[0mself\u001b[0m\u001b[1;33m.\u001b[0m\u001b[0mcolumns\u001b[0m\u001b[1;33m.\u001b[0m\u001b[0mnlevels\u001b[0m \u001b[1;33m>\u001b[0m \u001b[1;36m1\u001b[0m\u001b[1;33m:\u001b[0m\u001b[1;33m\u001b[0m\u001b[1;33m\u001b[0m\u001b[0m\n\u001b[0;32m   3023\u001b[0m                 \u001b[1;32mreturn\u001b[0m \u001b[0mself\u001b[0m\u001b[1;33m.\u001b[0m\u001b[0m_getitem_multilevel\u001b[0m\u001b[1;33m(\u001b[0m\u001b[0mkey\u001b[0m\u001b[1;33m)\u001b[0m\u001b[1;33m\u001b[0m\u001b[1;33m\u001b[0m\u001b[0m\n\u001b[1;32m-> 3024\u001b[1;33m             \u001b[0mindexer\u001b[0m \u001b[1;33m=\u001b[0m \u001b[0mself\u001b[0m\u001b[1;33m.\u001b[0m\u001b[0mcolumns\u001b[0m\u001b[1;33m.\u001b[0m\u001b[0mget_loc\u001b[0m\u001b[1;33m(\u001b[0m\u001b[0mkey\u001b[0m\u001b[1;33m)\u001b[0m\u001b[1;33m\u001b[0m\u001b[1;33m\u001b[0m\u001b[0m\n\u001b[0m\u001b[0;32m   3025\u001b[0m             \u001b[1;32mif\u001b[0m \u001b[0mis_integer\u001b[0m\u001b[1;33m(\u001b[0m\u001b[0mindexer\u001b[0m\u001b[1;33m)\u001b[0m\u001b[1;33m:\u001b[0m\u001b[1;33m\u001b[0m\u001b[1;33m\u001b[0m\u001b[0m\n\u001b[0;32m   3026\u001b[0m                 \u001b[0mindexer\u001b[0m \u001b[1;33m=\u001b[0m \u001b[1;33m[\u001b[0m\u001b[0mindexer\u001b[0m\u001b[1;33m]\u001b[0m\u001b[1;33m\u001b[0m\u001b[1;33m\u001b[0m\u001b[0m\n",
      "\u001b[1;32mC:\\Nobackup\\Anaconda3\\envs\\GSA\\lib\\site-packages\\pandas\\core\\indexes\\base.py\u001b[0m in \u001b[0;36mget_loc\u001b[1;34m(self, key, method, tolerance)\u001b[0m\n\u001b[0;32m   3080\u001b[0m                 \u001b[1;32mreturn\u001b[0m \u001b[0mself\u001b[0m\u001b[1;33m.\u001b[0m\u001b[0m_engine\u001b[0m\u001b[1;33m.\u001b[0m\u001b[0mget_loc\u001b[0m\u001b[1;33m(\u001b[0m\u001b[0mcasted_key\u001b[0m\u001b[1;33m)\u001b[0m\u001b[1;33m\u001b[0m\u001b[1;33m\u001b[0m\u001b[0m\n\u001b[0;32m   3081\u001b[0m             \u001b[1;32mexcept\u001b[0m \u001b[0mKeyError\u001b[0m \u001b[1;32mas\u001b[0m \u001b[0merr\u001b[0m\u001b[1;33m:\u001b[0m\u001b[1;33m\u001b[0m\u001b[1;33m\u001b[0m\u001b[0m\n\u001b[1;32m-> 3082\u001b[1;33m                 \u001b[1;32mraise\u001b[0m \u001b[0mKeyError\u001b[0m\u001b[1;33m(\u001b[0m\u001b[0mkey\u001b[0m\u001b[1;33m)\u001b[0m \u001b[1;32mfrom\u001b[0m \u001b[0merr\u001b[0m\u001b[1;33m\u001b[0m\u001b[1;33m\u001b[0m\u001b[0m\n\u001b[0m\u001b[0;32m   3083\u001b[0m \u001b[1;33m\u001b[0m\u001b[0m\n\u001b[0;32m   3084\u001b[0m         \u001b[1;32mif\u001b[0m \u001b[0mtolerance\u001b[0m \u001b[1;32mis\u001b[0m \u001b[1;32mnot\u001b[0m \u001b[1;32mNone\u001b[0m\u001b[1;33m:\u001b[0m\u001b[1;33m\u001b[0m\u001b[1;33m\u001b[0m\u001b[0m\n",
      "\u001b[1;31mKeyError\u001b[0m: 'Minigrid'"
     ]
    }
   ],
   "source": [
    "%autoreload\n",
    "date = datetime.now().strftime(\"%Y %m %d-%I:%M:%S_%p\")\n",
    "print(date)\n",
    "\n",
    "#Make sure you are in the /src directory when you start this script\n",
    "print(os.getcwd())\n",
    "\n",
    "from post_elec_GIS_functions import *\n",
    "shape =  '../Projected_files/' + files.loc['polygon','filename']\n",
    "gdp =  '../Projected_files/' + files.loc['gdp','filename']\n",
    "elec_shp = '../Projected_files/elec.shp'\n",
    "demandcells = os.path.join(os.getcwd(), 'run/Demand/demand_cells.csv')\n",
    "\n",
    "join(elec_shp, gdp, shape)\n",
    "elec(demandcells)\n"
   ]
  },
  {
   "cell_type": "markdown",
   "metadata": {},
   "source": [
    "## 3. Calculate the demand per cell based on following equations (MANUAL STEP in Excel)\n"
   ]
  },
  {
   "cell_type": "code",
   "execution_count": null,
   "metadata": {},
   "outputs": [],
   "source": [
    "%autoreload\n",
    "date = datetime.now().strftime(\"%Y %m %d-%I:%M:%S_%p\")\n",
    "print(date)\n",
    "\n",
    "from post_elec_GIS_functions import calculate_demand\n",
    "\n",
    "settlements = 'run/Demand/demand_cells.csv'\n",
    "demand = 'input_data/demand.csv'\n",
    "calculate_demand(settlements, demand)\n"
   ]
  },
  {
   "cell_type": "markdown",
   "metadata": {},
   "source": [
    "# 9. Distribution lines - Pathfinder\n",
    "\n",
    "\n",
    "\n",
    "## 9.1 Identify the 40x40 km cells that has no HV line"
   ]
  },
  {
   "cell_type": "code",
   "execution_count": null,
   "metadata": {},
   "outputs": [],
   "source": [
    "%autoreload\n",
    "date = datetime.now().strftime(\"%Y %m %d-%I:%M:%S_%p\")\n",
    "print(date)\n",
    "\n",
    "#Identify unelectrified polygons\n",
    "\n",
    "from Build_csv_files import *\n",
    "polygons_all = '../Projected_files/Final_Polygons_Kenya.shp'\n",
    "noHV = 'run/noHV_cells.csv'\n",
    "shape =  \"run/Demand/un_elec_polygons.shp\"\n",
    "\n",
    "noHV_polygons(polygons_all, noHV, shape)\n"
   ]
  },
  {
   "cell_type": "markdown",
   "metadata": {},
   "source": [
    "## Manual step in ArcMap\n",
    "- Split by attribute \"Projected_files/Final_polygons_Kenya.shp\" in attribute pointid to src/temp folder\n",
    "\n",
    "This is dowloaded from Zenodo and not needed to execute."
   ]
  },
  {
   "cell_type": "code",
   "execution_count": null,
   "metadata": {},
   "outputs": [],
   "source": [
    "%autoreload\n",
    "date = datetime.now().strftime(\"%Y %m %d-%I:%M:%S_%p\")\n",
    "print(date)\n",
    "\n",
    "from Download_files import *\n",
    "import os\n",
    "#Make sure you are in the /src directory when you start this script\n",
    "print(os.getcwd())\n",
    "\n",
    "download_url_data(\"input_data/dijkstra.txt\",\"src/temp\")\n",
    "unzip_all('input_data/dijkstra.txt', 'temp')"
   ]
  },
  {
   "cell_type": "markdown",
   "metadata": {},
   "source": [
    "## 9.2 Run Pathfinder for the area of study\n",
    "- Build target.csv and weights.csv from unelectrified population per 1x1 km cell with a population over x and roadnetwork to weight 0.5 and where there is grid weight 0.01.\n",
    "- Define the origin (center of the cell) and run the many-to-many Dijkstra [Pathfinder algorithm](https://github.com/facebookresearch/many-to-many-dijkstra) (Rohrer, 2019)\n",
    "- The path where there is an overlap with grid is removed and the remainder is concidered the new distribution lines.\n",
    "- The lenght of the path is summed to km and the length of the LV per cell is then multiplied with the cost per MW-km. [The cost per km is set to 4000 USD/MW-km and 15 000 USD/MW for a substation](https://iea-etsap.org/E-TechDS/PDF/E12_el-t&d_KV_Apr2014_GSOK.pdf)."
   ]
  },
  {
   "cell_type": "code",
   "execution_count": null,
   "metadata": {},
   "outputs": [],
   "source": [
    "%autoreload\n",
    "date = datetime.now().strftime(\"%Y %m %d-%I:%M:%S_%p\")\n",
    "print(date)\n",
    "\n",
    "from Pathfinder_processing_steps import *\n",
    "path = '../Projected_files/'\n",
    "proj_path = 'temp'\n",
    "elec_shp = '../Projected_files/elec.shp'\n",
    "\n",
    "\n",
    "pathfinder_main(path,proj_path, elec_shp)"
   ]
  },
  {
   "cell_type": "markdown",
   "metadata": {},
   "source": [
    "## 10. Near table for all unelectrified cells (MANUAL STEP)\n",
    "\n",
    "* In ArcMap Near ............within the distance 50 000 m.\n",
    "* It is a simplification as it does not calculate the exact distance from the grid ut instead from the central point of the electrified cell."
   ]
  },
  {
   "cell_type": "markdown",
   "metadata": {},
   "source": [
    "## 10. Build the following csv files for building the data file to OSeMOSYS\n",
    "- GIS_data.csv\n",
    "- capacityfactor_solar.csv\n",
    "- capacityfactor_wind.csv\n",
    "- capitalcost.csv\n",
    "- inputactivity.csv\n",
    "- outputactivity.csv\n",
    "- capacitytoactivity.csv\n",
    "\n",
    "It also generates a technology and fuel file that is convenient to paste into the base OSeMOSYS txt file for the SETs TECHNOLOGY and FUEL.\n",
    "\n",
    "## Transmission lines distance and presence of minigrid\n",
    "The cells that has at least one electrified cell and are not situated 5000 m from a minigrid are concidered electrified by transmission lines.\n",
    "\n",
    "Cost concidered are [2500 USD MW-km for transmission lines and 1500 USD/MW](https://iea-etsap.org/E-TechDS/PDF/E12_el-t&d_KV_Apr2014_GSOK.pdf) for substation and  [4000 USD/MW-km](https://iea-etsap.org/E-TechDS/PDF/E12_el-t&d_KV_Apr2014_GSOK.pdf) for low voltage lines.\n",
    "\n",
    "The fixed cost of HV/LV transmission lines are set to 2.5% of the capital cost [Updated-Least-Cost-Power-Development-Plan-2017-2022](http://gak.co.ke/wp-content/uploads/2019/02/Updated-Least-Cost-Power-Development-Plan-2017-2022-min.pdf)\n",
    "\n"
   ]
  },
  {
   "cell_type": "code",
   "execution_count": null,
   "metadata": {},
   "outputs": [],
   "source": [
    "%autoreload\n",
    "date = datetime.now().strftime(\"%Y %m %d-%I:%M:%S_%p\")\n",
    "print(date)\n",
    "\n",
    "from Build_csv_files import * \n",
    "\n",
    "renewable_path = 'temp'\n",
    "pop_shp = 'new_40x40points_WGSUMT37S.shp'\n",
    "unelec = 'run/un_elec.csv'\n",
    "noHV = 'run/noHV_cells.csv'\n",
    "HV = 'run/HV_cells.csv'\n",
    "elec = 'run/elec.csv'\n",
    "Projected_files_path = '../Projected_files/'\n",
    "distribution_network = 'run/Demand/distributionlines.csv'\n",
    "distribution_length_cell = 'run/Demand/Distribution_network.xlsx'\n",
    "\n",
    "capital_cost_HV = 2.5 #kUSD MW-km\n",
    "substation = 15 #kUSD/MW\n",
    "capital_cost_LV = 4 #kUSD/MW\n",
    "capital_cost_LV_strengthening = 1 #kUSD/MW Assumed 25% of the cost\n",
    "capacitytoactivity = 31.536 #coversion MW to TJ\n",
    "distribution_cost = '0'\n",
    "path = 'run/ref'\n",
    "neartable = 'run/Demand/Near_table.csv'\n",
    "\n",
    "#Solar and wind csv files\n",
    "renewableninja(renewable_path, path)\n",
    "#Location file\n",
    "GIS_file(path, files)\n",
    "matrix = adjacency_matrix(neartable, noHV, HV, path)\n",
    "\n",
    "capital_cost_transmission_distrib(capital_cost_LV_strengthening, distribution_network, elec, noHV, HV, unelec, capital_cost_HV, substation, capital_cost_LV, capacitytoactivity, distribution_cost, path, distribution_length_cell, matrix)"
   ]
  },
  {
   "cell_type": "markdown",
   "metadata": {},
   "source": [
    "# 12. Update the final files that are not updated by the script (MANUAL step)\n",
    "\n",
    "These files are automatically dowloaded for the required runs.\n",
    "\n",
    "- Demandprofile.csv (KPLC, 2015 halfhourly profile)\n",
    "- demandprofile_rural.csv [Williams et al., 2018](https://ieeexplore.ieee.org/document/8521099/)\n",
    "- emissions.csv\n",
    "- capitalcost_RET_ref.csv [NREL - moderate](https://atb.nrel.gov/)\n",
    "- capitalcost_RET_vision.csv [NREL -  advanced](https://atb.nrel.gov/)\n",
    "- Merge fixedcost_tnd to fixed_cost [NREL - moderate/advanced](https://atb.nrel.gov/)\n",
    "- variable_cost.csv\n",
    "- Operational_life.csv [NREL - moderate/advanced](https://atb.nrel.gov/)\n",
    "- battery [NREL - moderate/advanced](https://atb.nrel.gov/)"
   ]
  },
  {
   "cell_type": "markdown",
   "metadata": {},
   "source": [
    "# 14. Run the [GEOSeMOSYS code](https://github.com/KTH-dESA/GEOSeMOSYS) by Moksnes et al. (2020) through the command line\n",
    "To fit the Kenya analysis the code is modified with the following additions:\n",
    "- Electrified cells are treated separatley therefore an extra row is added to the functions where Solar PV, LV lines, or final electricity is calculated. They are treated as a separate cell with the extension of \"_0\" and \"_1\" for un-electrified and electrified"
   ]
  },
  {
   "cell_type": "markdown",
   "metadata": {},
   "source": [
    "# 14 a) Reference scenario\n",
    "Approx 3 h"
   ]
  },
  {
   "cell_type": "code",
   "execution_count": null,
   "metadata": {},
   "outputs": [],
   "source": [
    "%autoreload\n",
    "date = datetime.now().strftime(\"%Y %m %d-%I:%M:%S_%p\")\n",
    "print(date)\n",
    "\n",
    "\n",
    "!python run/run_datafile_ref.py run/ref run/Kenya_basefile_reference.txt run/output/REF.txt"
   ]
  },
  {
   "cell_type": "markdown",
   "metadata": {},
   "source": [
    "# 14 b) Vision 2030 scenario\n",
    "Approx 3h"
   ]
  },
  {
   "cell_type": "code",
   "execution_count": null,
   "metadata": {},
   "outputs": [],
   "source": [
    "%autoreload\n",
    "date = datetime.now().strftime(\"%Y %m %d-%I:%M:%S_%p\")\n",
    "print(date)\n",
    "\n",
    "!python run/run_datafile_vision.py run/vision/update run/Vision.txt run/output/Vision.txt"
   ]
  },
  {
   "cell_type": "markdown",
   "metadata": {},
   "source": [
    "# 14 c) Vision 2030 scenario dry hydro (can be rewritten to just replace the capacityfactors from Vision scenario)\n",
    "Approx 3h"
   ]
  },
  {
   "cell_type": "code",
   "execution_count": null,
   "metadata": {},
   "outputs": [],
   "source": [
    "%autoreload\n",
    "date = datetime.now().strftime(\"%Y %m %d-%I:%M:%S_%p\")\n",
    "print(date)\n",
    "\n",
    "!python run/run_datafile_vision.py run/vision/update run/Dry_Vision.txt run/output/Dry_Vision.txt"
   ]
  },
  {
   "cell_type": "markdown",
   "metadata": {},
   "source": [
    "# 15) Check the datafile before the run\n",
    "The datafile can have Nan so those needs to be deleted as they cannot be processed in GNUMath Prog."
   ]
  },
  {
   "cell_type": "markdown",
   "metadata": {},
   "source": [
    "# 16) Run the data file on a High performance cluster\n",
    "- This analysis was run on the KTH PDC resource Tegner with the performance of 2 x 12 cores Intel E5-2690v3 Haswell, 512 GB RAM 24 cores and 1  x NVIDIA Quadro K420. "
   ]
  },
  {
   "cell_type": "markdown",
   "metadata": {},
   "source": [
    "sbatch run_cplex_tegner_REF.sh\n",
    "\n",
    "sbatch run_cplex_tegner_Vision.sh\n",
    "\n",
    "sbatch run_cplex_tegner_DryHydro.sh"
   ]
  },
  {
   "cell_type": "markdown",
   "metadata": {},
   "source": [
    "## 16) Extract dual values from the .sol file"
   ]
  },
  {
   "cell_type": "code",
   "execution_count": null,
   "metadata": {},
   "outputs": [],
   "source": [
    "!python .\\OSeMOSYS_CPLEX_dual_values.py run/output/REF.sol results/Kenya_REF_dual.txt\n",
    "!python .\\OSeMOSYS_CPLEX_dual_values.py run/output/Vision.sol results/Kenya_Vision_dual.txt\n",
    "!python .\\OSeMOSYS_CPLEX_dual_values.py run/output/Dry_Vision.sol results/Kenya_Dry_Vision_dual.txt"
   ]
  },
  {
   "cell_type": "markdown",
   "metadata": {},
   "source": [
    "## 17) Results extraction\n",
    "### To csv and pandas dataframes"
   ]
  },
  {
   "cell_type": "code",
   "execution_count": null,
   "metadata": {},
   "outputs": [],
   "source": [
    "%autoreload\n",
    "date = datetime.now().strftime(\"%Y %m %d-%I:%M:%S_%p\")\n",
    "\n",
    "from Results_extraction import read_data\n",
    "\n",
    "ref = read_data('results/REF_solved.txt')\n",
    "vision = read_data('results/Vision_solved.txt')\n",
    "dry_vision = read_data('results/Dry_vision_solved.txt')\n",
    "\n",
    "prod_ref = ref['ProductionByTechnologyAnnual']\n",
    "prod_vision = vision['ProductionByTechnologyAnnual']\n",
    "prod_dry_vision = dry_vision['ProductionByTechnologyAnnual']\n",
    "\n",
    "new_cap_ref = ref['NewCapacity']\n",
    "new_cap_vision = vision['NewCapacity']\n",
    "new_cap_dryvision = dry_vision['NewCapacity']\n",
    "\n",
    "prod_ref.head(10)"
   ]
  },
  {
   "cell_type": "markdown",
   "metadata": {},
   "source": [
    "### Make GIS files"
   ]
  },
  {
   "cell_type": "code",
   "execution_count": null,
   "metadata": {},
   "outputs": [],
   "source": [
    "%autoreload\n",
    "date = datetime.now().strftime(\"%Y %m %d-%I:%M:%S_%p\")\n",
    "print(date)\n",
    "\n",
    "from Build_csv_files import *\n",
    "#Create maps for the results\n",
    "\n",
    "polygons_all = '../Projected_files/Final_Polygons_Kenya.shp'\n",
    "\n",
    "BaseyearHV = 'run/HV.csv'\n",
    "shapeHV = 'results/connected.shp'\n",
    "\n",
    "connectedHV_dryvision = 'results/connected_HV_dryvision.csv'\n",
    "shapeHV_dry = 'results/connected_dry_vision.shp'\n",
    "\n",
    "connectedHV_vision = 'results/connected_HV_vision.csv'\n",
    "shapeHV_vision = 'results/connected_vision.shp'\n",
    "\n",
    "connectedLV = 'results/connected_LV.csv'\n",
    "shapeLV = 'results/connected_LV.shp'\n",
    "\n",
    "connectedLV_vision = 'results/connected_LV_vision.csv'\n",
    "shapeLV_vision = 'results/connected_LV_vision.shp'\n",
    "\n",
    "distribution = 'results/electrified_distribution.csv'\n",
    "shapedistribution = 'results/distribution.shp'\n",
    "\n",
    "wind = 'results/wind.csv'\n",
    "shapewind = 'results/wind_cells.shp'\n",
    "\n",
    "wind_vision = 'results/wind_vision.csv'\n",
    "shapewind_vision = 'results/wind_cells_vision.shp'\n",
    "\n",
    "noHV_polygons(polygons_all, connectedHV, shapeHV)\n",
    "noHV_polygons(polygons_all, connectedHV_dryvision, shapeHV)\n",
    "noHV_polygons(polygons_all, connectedLV, shapeLV)\n",
    "noHV_polygons(polygons_all, distribution, shapedistribution)\n",
    "noHV_polygons(polygons_all, wind, shapewind)\n",
    "\n",
    "noHV_polygons(polygons_all, connectedHV_vision, shapeHV_vision)\n",
    "noHV_polygons(polygons_all, connectedLV_vision, shapeLV_vision)\n",
    "noHV_polygons(polygons_all, wind_vision, shapewind_vision)"
   ]
  },
  {
   "cell_type": "markdown",
   "metadata": {},
   "source": [
    "\n",
    "### Clustering analysis of the dual values based on capacityfactor of wind and extension of transmission line"
   ]
  },
  {
   "cell_type": "code",
   "execution_count": null,
   "metadata": {},
   "outputs": [],
   "source": [
    "%autoreload\n",
    "date = datetime.now().strftime(\"%Y %m %d-%I:%M:%S_%p\")\n",
    "\n",
    "print(date)\n",
    "\n",
    "from Results_extraction import clustering, normalize\n",
    "\n",
    "datafile = pd.read_csv(\"results/cluster_dual.csv\", index_col=0)\n",
    "\n",
    "cols = ['norm2031','norm2025', 'normTRHV', 'normCF Wind'] #,'','SOMG4c','SOPV','SOPV4r','TRHV','WI','WI4c' KEEL00d\n",
    "\n",
    "normalized_data = normalize(datafile)\n",
    "data_for_clustering = np.array(normalized_data)\n",
    "\n",
    "n_clusters = 3\n",
    "\n",
    "df = clustering(n_clusters,data_for_clustering,cols[0],cols[1], cols[2], cols[3]) #,cols[2], cols[3],cols[4],cols[5], cols[6],cols[7],cols[8]\n",
    "\n",
    "df.to_csv('cluster_results.csv')\n",
    "\n",
    "join_data = df.append(datafile)\n",
    "\n",
    "join_data\n"
   ]
  },
  {
   "cell_type": "markdown",
   "metadata": {},
   "source": [
    "### Plot of clusters"
   ]
  },
  {
   "cell_type": "code",
   "execution_count": null,
   "metadata": {},
   "outputs": [],
   "source": [
    "%matplotlib inline\n",
    "sns.set_context(\"notebook\",rc={\"font.size\": 18})\n",
    "sns.set_style(\"whitegrid\")\n",
    "\n",
    "mycolors = [\"grey\",\"red\",\"green\",\"blue\"]\n",
    "for (i,subdf) in df.groupby(\"class\"):\n",
    "\n",
    "    plt.scatter(subdf['normCF Wind'],subdf['norm2031'],label=\"Cluster {}\".format(i),c=mycolors[i-1])\n",
    "\n",
    "plt.legend()\n",
    "plt.xlabel('Capacityfactor wind')\n",
    "plt.ylabel('Shadow price 2025')\n",
    "plt.savefig(\"clusters.pdf\")\n"
   ]
  },
  {
   "cell_type": "code",
   "execution_count": null,
   "metadata": {},
   "outputs": [],
   "source": []
  }
 ],
 "metadata": {
  "kernelspec": {
   "display_name": "Python 3",
   "language": "python",
   "name": "python3"
  },
  "language_info": {
   "codemirror_mode": {
    "name": "ipython",
    "version": 3
   },
   "file_extension": ".py",
   "mimetype": "text/x-python",
   "name": "python",
   "nbconvert_exporter": "python",
   "pygments_lexer": "ipython3",
   "version": "3.7.8"
  }
 },
 "nbformat": 4,
 "nbformat_minor": 2
}
